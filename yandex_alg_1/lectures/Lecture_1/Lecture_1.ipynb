{
 "cells": [
  {
   "cell_type": "markdown",
   "id": "c889d62b",
   "metadata": {},
   "source": [
    "# Задача.\n",
    "## Дана строка s, надо найти самый часто встречающийся символ и вывести его.\n",
    "## Самое быстрое решение(через словарь за O(N) = O(2*N)"
   ]
  },
  {
   "cell_type": "code",
   "execution_count": 25,
   "id": "a92c91e3",
   "metadata": {},
   "outputs": [
    {
     "name": "stdout",
     "output_type": "stream",
     "text": [
      "23r2353215321\n",
      "Вот словарь с количеством вхождений каждого элемента - {'2': 4, '3': 4, 'r': 1, '5': 2, '1': 2}, максимальное кол-во у 2 равное 4\n"
     ]
    }
   ],
   "source": [
    "s = input()\n",
    "dict_ = {}\n",
    "ans = ''\n",
    "max_count = 0\n",
    "for let in s:\n",
    "    if let not in dict_:\n",
    "        dict_[let] = 0\n",
    "    dict_[let] +=1\n",
    "for key in dict_:\n",
    "    if dict_[key] > max_count:\n",
    "        max_count = dict_[key]\n",
    "        ans = key\n",
    "print(f'Вот словарь с количеством вхождений каждого элемента - {dict_}, максимальное кол-во у {ans} равное {dict_[ans]}')"
   ]
  },
  {
   "cell_type": "markdown",
   "id": "23e422dc",
   "metadata": {},
   "source": [
    "# Советы по составлению тестов.\n",
    "## 1) Если есть примеры - реши их руками и сверь ответ. Если не совпадает, то либо правильных ответов может быть несколько, либо ты неправильно понял задачу.\n",
    "## 2) Сначала составь несколько примеров и реши задачу руками, чтобы лучше понять условие и чтобы потом было с чем сравнить.\n",
    "## 3) Проверь послоедовательность из одного элемента и пустую последовательность.\n",
    "## 4) \"Краевые эффекты\" - проверь, что программа работает корректно в начале и коцне последовательности, сделай тесты, чтобы ответ находился на первом и на последнем месте в последовательности.\n",
    "## 5) Составь покрытие всех ветвлений, так чтобы был тест, который входит в каждый if else.\n",
    "## 6) Подбери тесты, чтобы не было ни одного входа в цикл\n",
    "## 7) Один тест - одна возможная ошибка."
   ]
  },
  {
   "cell_type": "markdown",
   "id": "dd3a0650",
   "metadata": {},
   "source": [
    "# Покрытие тестами\n"
   ]
  },
  {
   "cell_type": "markdown",
   "id": "b990abfc",
   "metadata": {},
   "source": [
    "## Задача: даны 3 целых числа a, b, c. \n",
    "\n"
   ]
  },
  {
   "cell_type": "markdown",
   "id": "bb0621f8",
   "metadata": {},
   "source": [
    "## Найдите все корни уравнение ax^2 + bx + c = 0 и выведите их в порядке возрастания.\n"
   ]
  },
  {
   "cell_type": "code",
   "execution_count": 16,
   "id": "c8d92e01",
   "metadata": {},
   "outputs": [
    {
     "name": "stdout",
     "output_type": "stream",
     "text": [
      "-5\n",
      "4\n",
      "1\n",
      "-0.2 1.0\n"
     ]
    }
   ],
   "source": [
    "from math import sqrt\n",
    "a, b, c = int(input()), int(input()), int(input())\n",
    "if a ==0:\n",
    "    print(\"Это не квадратное уравнение, а линейное\")\n",
    "elif (b**2 - 4*a*c)<0:\n",
    "    print(\"Корней нет\")\n",
    "elif (b**2 - 4*a*c == 0):\n",
    "    print(-b/(2*a))\n",
    "else:\n",
    "    x1 = (-b + sqrt(b**2 - 4*a*c))/(2*a)\n",
    "    x2 = (-b - sqrt(b**2 - 4*a*c))/(2*a)\n",
    "    print(min(x1, x2), max(x1, x2))"
   ]
  },
  {
   "cell_type": "code",
   "execution_count": null,
   "id": "269518f7",
   "metadata": {},
   "outputs": [],
   "source": []
  }
 ],
 "metadata": {
  "kernelspec": {
   "display_name": "Python 3 (ipykernel)",
   "language": "python",
   "name": "python3"
  },
  "language_info": {
   "codemirror_mode": {
    "name": "ipython",
    "version": 3
   },
   "file_extension": ".py",
   "mimetype": "text/x-python",
   "name": "python",
   "nbconvert_exporter": "python",
   "pygments_lexer": "ipython3",
   "version": "3.10.6"
  },
  "vscode": {
   "interpreter": {
    "hash": "74fdcc3b0bc7ff5eaba67c5f815c0bad2af61d26ff3039e078b5ed57cce4fe3e"
   }
  }
 },
 "nbformat": 4,
 "nbformat_minor": 5
}
