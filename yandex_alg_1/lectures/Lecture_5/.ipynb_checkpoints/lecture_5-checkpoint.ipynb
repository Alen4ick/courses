{
 "cells": [
  {
   "cell_type": "code",
   "execution_count": 6,
   "metadata": {},
   "outputs": [
    {
     "name": "stdout",
     "output_type": "stream",
     "text": [
      "[0, 0, 0, 1]\n"
     ]
    }
   ],
   "source": [
    "\n",
    "nums = [int(x) for x in input().split()]\n",
    "def makeprefizeroes(nums):\n",
    "    prefzeroes = [0] * (len(nums) + 1)\n",
    "    for i in range(1, len(nums) + 1):\n",
    "        if nums[i-1] == 0:\n",
    "            prefzeroes[i] = prefzeroes[i - 1] + 1\n",
    "        else:\n",
    "            prefzeroes[i] = prefzeroes[i - 1]\n",
    "    return prefzeroes\n",
    "\n",
    "prefixzeroes = makeprefizeroes(nums)\n",
    "\"\"\" def countzeroes(nums, l, r):\n",
    "    return prefzeroes[r] - prefzeroes[l] \"\"\"\n",
    "print(prefixzeroes)"
   ]
  },
  {
   "cell_type": "code",
   "execution_count": null,
   "metadata": {},
   "outputs": [],
   "source": []
  }
 ],
 "metadata": {
  "kernelspec": {
   "display_name": "Python 3 (ipykernel)",
   "language": "python",
   "name": "python3"
  },
  "language_info": {
   "codemirror_mode": {
    "name": "ipython",
    "version": 3
   },
   "file_extension": ".py",
   "mimetype": "text/x-python",
   "name": "python",
   "nbconvert_exporter": "python",
   "pygments_lexer": "ipython3",
   "version": "3.10.6"
  },
  "vscode": {
   "interpreter": {
    "hash": "74fdcc3b0bc7ff5eaba67c5f815c0bad2af61d26ff3039e078b5ed57cce4fe3e"
   }
  }
 },
 "nbformat": 4,
 "nbformat_minor": 2
}
