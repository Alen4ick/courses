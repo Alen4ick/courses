{
 "cells": [
  {
   "cell_type": "code",
   "execution_count": 2,
   "id": "a8553c1a",
   "metadata": {},
   "outputs": [],
   "source": [
    "\n",
    "nums = [int(x) for x in input().split()]\n",
    "def makeprefizeroes(nums):\n",
    "    prefzeroes = [0] * (len(nums) + 1)\n",
    "    for i in range(1, len(nums) + 1):\n",
    "        if nums[i-1] == 0:\n",
    "            prefzeroes[i] = prefzeroes[i - 1] + 1\n",
    "        else:\n",
    "            prefzeroes[i] = prefzeroes[i - 1]\n",
    "    return prefzeroes\n",
    "\n",
    "prefixzeroes = makeprefizeroes(nums)\n",
    "\"\"\" def countzeroes(nums, l, r):\n",
    "    return prefzeroes[r] - prefzeroes[l] \"\"\"\n",
    "print(prefixzeroes)"
   ]
  },
  {
   "cell_type": "code",
   "execution_count": null,
   "id": "28bc6c8e",
   "metadata": {},
   "outputs": [],
   "source": []
  }
 ],
 "metadata": {
  "kernelspec": {
   "display_name": "Python 3.10.6 64-bit",
   "language": "python",
   "name": "python3"
  },
  "language_info": {
   "codemirror_mode": {
    "name": "ipython",
    "version": 3
   },
   "file_extension": ".py",
   "mimetype": "text/x-python",
   "name": "python",
   "nbconvert_exporter": "python",
   "pygments_lexer": "ipython3",
   "version": "3.10.6"
  },
  "vscode": {
   "interpreter": {
    "hash": "74fdcc3b0bc7ff5eaba67c5f815c0bad2af61d26ff3039e078b5ed57cce4fe3e"
   }
  }
 },
 "nbformat": 4,
 "nbformat_minor": 5
}
