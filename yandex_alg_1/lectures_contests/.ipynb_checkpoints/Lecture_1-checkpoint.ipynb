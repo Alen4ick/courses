{
 "cells": [
  {
   "cell_type": "markdown",
   "id": "c889d62b",
   "metadata": {},
   "source": [
    "# Задача.\n",
    "## Дана строка s, надо найти самый часто встречающийся символ и вывести его.\n",
    "## Самое быстрое решение(через словарь за O(N) = O(2*N)"
   ]
  },
  {
   "cell_type": "code",
   "execution_count": 25,
   "id": "a92c91e3",
   "metadata": {},
   "outputs": [
    {
     "name": "stdout",
     "output_type": "stream",
     "text": [
      "23r2353215321\n",
      "Вот словарь с количеством вхождений каждого элемента - {'2': 4, '3': 4, 'r': 1, '5': 2, '1': 2}, максимальное кол-во у 2 равное 4\n"
     ]
    }
   ],
   "source": [
    "s = input()\n",
    "dict_ = {}\n",
    "ans = ''\n",
    "max_count = 0\n",
    "for let in s:\n",
    "    if let not in dict_:\n",
    "        dict_[let] = 0\n",
    "    dict_[let] +=1\n",
    "for key in dict_:\n",
    "    if dict_[key] > max_count:\n",
    "        max_count = dict_[key]\n",
    "        ans = key\n",
    "print(f'Вот словарь с количеством вхождений каждого элемента - {dict_}, максимальное кол-во у {ans} равное {dict_[ans]}')"
   ]
  },
  {
   "cell_type": "code",
   "execution_count": null,
   "id": "aab2d23b",
   "metadata": {},
   "outputs": [],
   "source": []
  }
 ],
 "metadata": {
  "kernelspec": {
   "display_name": "Python 3 (ipykernel)",
   "language": "python",
   "name": "python3"
  },
  "language_info": {
   "codemirror_mode": {
    "name": "ipython",
    "version": 3
   },
   "file_extension": ".py",
   "mimetype": "text/x-python",
   "name": "python",
   "nbconvert_exporter": "python",
   "pygments_lexer": "ipython3",
   "version": "3.10.6"
  },
  "vscode": {
   "interpreter": {
    "hash": "74fdcc3b0bc7ff5eaba67c5f815c0bad2af61d26ff3039e078b5ed57cce4fe3e"
   }
  }
 },
 "nbformat": 4,
 "nbformat_minor": 5
}
